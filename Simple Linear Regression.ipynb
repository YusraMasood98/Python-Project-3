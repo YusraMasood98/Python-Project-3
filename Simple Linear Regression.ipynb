import pandas as pd
import numpy as np
from sklearn.linear_model import LinearRegression
from sklearn.metrics import r2_score, mean_squared_error
dataset = pd.read_csv('C:/Users/CC/Downloads/Class 3/1 - Simple Linear Regression/Students.csv')
X = dataset.iloc[:, :-1].values
y = dataset.iloc[:, 1].values
simple_lr = LinearRegression()
from sklearn.model_selection import train_test_split
X_train, X_test, y_train, y_test = train_test_split(X, y, test_size = 1/3, random_state = 0)
simple_lr.fit(X_train, y_train)
slope = simple_lr.coef_[0]
intercept = simple_lr.intercept_
print("Simple Linear Regression Model:")
print(f"Slope (Coefficient): {slope}")
print(f"Y-Intercept: {intercept}")
y_pred_simple = simple_lr.predict(X_test)
r2_simple = r2_score(y_test, y_pred_simple)
mse_simple = mean_squared_error(y_test, y_pred_simple)
print("\nModel Evaluation:")
print("Simple Linear Regression - R-squared:", r2_simple)
print("Simple Linear Regression - Mean Squared Error:", mse_simple)
