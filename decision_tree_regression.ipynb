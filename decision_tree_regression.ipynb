# Decision Tree Regression

# Importing the libraries
import numpy as np
import matplotlib.pyplot as plt
import pandas as pd

# Importing the dataset
dataset = pd.read_csv('C:/Users/CC/Downloads/Class 3/1 - Simple Linear Regression/Students.csv')
X = dataset.iloc[:, :-1].values
y = dataset.iloc[:, -1].values
# Splitting the dataset into the Training set and Test set
#from sklearn.model_selection import train_test_split
#X_train, X_test, y_train, y_test = train_test_split(X, y, test_size = 0.2, random_state = 0)


# Fitting Decision Tree Regression to the dataset
from sklearn.tree import DecisionTreeRegressor
regressor = DecisionTreeRegressor(random_state = 0)
regressor.fit(X, y)

# Predicting a new result
y_pred = regressor.predict([[6.5]])

# Visualising the Decision Tree Regression results (higher resolution)
X_grid = np.arange(min(X), max(X), 0.1)
X_grid = X_grid.reshape((len(X_grid), 1))
plt.scatter(X, y, color = 'red')
plt.plot(X_grid, regressor.predict(X_grid), color = 'blue')
plt.title('Decision Tree Regression')
plt.xlabel('Position level')
plt.ylabel('Salary')
plt.show()

#y_pred_dt_reg = dt_reg.predict(X_test)
#r2_dt = r2_score(y_test, y_pred_dt_reg)
#mse_dt = mean_squared_error(y_test, y_pred_dt_reg )
#intercept = lin_reg_2.intercept_
#slope = lin_reg_2.coef_
#print('Intercept:', intercept)
#print('Slope:',slope)
#print("\nModel Evaluation:")
#print("Simple Linear Regression - R-squared:", r2_poly)
#print("Simple Linear Regression - Mean Squared Error:", mse_poly)
#intercept = lin_reg_2.intercept_
#slope = lin_reg_2.coef_
#print('Intercept:', intercept)
#print('Slope:',slope)